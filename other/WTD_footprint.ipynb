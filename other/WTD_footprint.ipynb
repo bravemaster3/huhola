{
 "cells": [
  {
   "cell_type": "code",
   "execution_count": 1,
   "id": "31cdfc23-9f50-414c-9f82-991e0f84684d",
   "metadata": {},
   "outputs": [],
   "source": [
    "# PATHS 50% footprint\n",
    "\n",
    "# path_footpr_deg = r\"C:\\BRAVE\\slu\\MyPhD\\WTD_modelling_simple\\Data\\footprints\\Each_site_mire_only\\Degero_50_mireONLY_SWEREF.shp\"\n",
    "# path_footpr_hals = r\"C:\\BRAVE\\slu\\MyPhD\\WTD_modelling_simple\\Data\\footprints\\Each_site_mire_only\\Halsingfors_50_mireONLY_SWEREF.shp\"\n",
    "# path_footpr_halm = r\"C:\\BRAVE\\slu\\MyPhD\\WTD_modelling_simple\\Data\\footprints\\Each_site_mire_only\\Halmyran_50_mireONLY_SWEREF.shp\"\n",
    "# path_footpr_sto = r\"C:\\BRAVE\\slu\\MyPhD\\WTD_modelling_simple\\Data\\footprints\\Each_site_mire_only\\Stortjarn_50_mireONLY_SWEREF.shp\"\n",
    "\n",
    "# path_to_WTD_proxy = \"D:/For_Nils/Temp_tests/HuHola_outputs/WTD/level.tif\"\n",
    "\n",
    "# path_out_WTD_deg = r\"D:\\For_Nils\\Temp_tests\\HuHola_outputs\\WTD\\WTD_corr_clipped\\Deg_WTD_50.tif\"\n",
    "# path_out_WTD_hals = r\"D:\\For_Nils\\Temp_tests\\HuHola_outputs\\WTD\\WTD_corr_clipped\\Hals_WTD_50.tif\"\n",
    "# path_out_WTD_halm = r\"D:\\For_Nils\\Temp_tests\\HuHola_outputs\\WTD\\WTD_corr_clipped\\Halm_WTD_50.tif\"\n",
    "# path_out_WTD_sto = r\"D:\\For_Nils\\Temp_tests\\HuHola_outputs\\WTD\\WTD_corr_clipped\\Sto_WTD_50.tif\"\n",
    "\n",
    "# sl_int_deg = (0.34, -36.86)#slope, intercept\n",
    "# sl_int_hals = (0.70, -9.20)\n",
    "# sl_int_halm = (1.16, -7.55)\n",
    "# sl_int_sto = (0.89, -10.79)"
   ]
  },
  {
   "cell_type": "code",
   "execution_count": 17,
   "id": "bb01d585-2787-4499-92d5-127efc337bfc",
   "metadata": {},
   "outputs": [],
   "source": [
    "# PATHS 90% footprint\n",
    "\n",
    "path_footpr_deg = r\"C:\\BRAVE\\slu\\MyPhD\\WTD_modelling_simple\\Data\\footprints\\Each_site_mire_only_EC90\\Degero_90_mireONLY_SWEREF.gpkg\"\n",
    "path_footpr_hals = r\"C:\\BRAVE\\slu\\MyPhD\\WTD_modelling_simple\\Data\\footprints\\Each_site_mire_only_EC90\\Halsingfors_90_mireONLY_SWEREF.gpkg\"\n",
    "path_footpr_halm = r\"C:\\BRAVE\\slu\\MyPhD\\WTD_modelling_simple\\Data\\footprints\\Each_site_mire_only_EC90\\Halmyran_90_mireONLY_SWEREF.gpkg\"\n",
    "path_footpr_sto = r\"C:\\BRAVE\\slu\\MyPhD\\WTD_modelling_simple\\Data\\footprints\\Each_site_mire_only_EC90\\Stortjarn_90_mireONLY_SWEREF.gpkg\"\n",
    "\n",
    "path_to_WTD_proxy = r\"D:\\For_Nils\\Temp_tests\\HuHola_outputs\\WTD\\Microtopo_30cm_000\\hol_hum_depth_height_cm.tif\"\n",
    "\n",
    "path_out_WTD_deg = r\"D:\\For_Nils\\Temp_tests\\HuHola_outputs\\WTD\\WTD_corr_clipped\\Deg_WTD_90.tif\"\n",
    "path_out_WTD_hals = r\"D:\\For_Nils\\Temp_tests\\HuHola_outputs\\WTD\\WTD_corr_clipped\\Hals_WTD_90.tif\"\n",
    "path_out_WTD_halm = r\"D:\\For_Nils\\Temp_tests\\HuHola_outputs\\WTD\\WTD_corr_clipped\\Halm_WTD_90.tif\"\n",
    "path_out_WTD_sto = r\"D:\\For_Nils\\Temp_tests\\HuHola_outputs\\WTD\\WTD_corr_clipped\\Sto_WTD_90.tif\"\n",
    "\n",
    "sl_int_deg = (0.34, -36.86)#slope, intercept\n",
    "sl_int_hals = (0.70, -9.20)\n",
    "sl_int_halm = (1.16, -7.55)\n",
    "sl_int_sto = (0.89, -10.79)"
   ]
  },
  {
   "cell_type": "code",
   "execution_count": 3,
   "id": "080bdc2d-61c1-4e6b-a5e6-ec54a8c2e643",
   "metadata": {},
   "outputs": [],
   "source": [
    "#function for clipping WTD to footprint\n",
    "# from shapely.geometry import mapping\n",
    "# import rasterio\n",
    "# import geopandas as gpd\n",
    "# from rasterio.mask import mask\n",
    "# import numpy as np\n",
    "\n",
    "# def WTD_in_shape(path_to_shapefile, path_to_WTD_proxy, slope, intercept, path_out_WTD_clipped):\n",
    "#     shape = gpd.read_file(path_to_shapefile)\n",
    "#     shape_mapping = shape.geometry.apply(mapping) # list of shapely geometries\n",
    "    \n",
    "#     with rasterio.open(path_to_WTD_proxy, \"r\") as src:\n",
    "#         #src.meta.update({'nodata': 0})\n",
    "#         meta = src.meta\n",
    "#         a1, a1_transform = mask(src, shape_mapping, crop=True)\n",
    "#         shape_WTL = slope * a1 + intercept #correction of WTD_proxy with slope and intercept found in WTD_proxy.ipynb\n",
    "\n",
    "#     with rasterio.open(path_out_WTD_clipped, \"w\", **meta) as dest:\n",
    "#         dest.write(shape_WTL)\n",
    "\n",
    "# def mean_WTD_in_shape(site, path_to_corr_WTD):\n",
    "#     with rasterio.open(path_to_corr_WTD, \"r\") as src:\n",
    "#         #src.meta.update({'nodata': 0})\n",
    "#         wtd = src.read(1)\n",
    "#         mean_wtd = np.nanmean(wtd)\n",
    "#         print(f\"Mean WTD at {site} is: {mean_wtd:.2f} cm\")"
   ]
  },
  {
   "cell_type": "code",
   "execution_count": 32,
   "id": "f804c14b-e004-4580-95cc-3f813d36c776",
   "metadata": {},
   "outputs": [],
   "source": [
    "import rasterio\n",
    "from rasterio.mask import mask\n",
    "import geopandas as gpd\n",
    "import numpy as np\n",
    "\n",
    "def WTD_in_shape(path_to_shapefile, path_to_WTD_proxy, slope, intercept, path_out_WTD_clipped):\n",
    "    # Load the shapefile\n",
    "    shape = gpd.read_file(path_to_shapefile)\n",
    "    \n",
    "    # Open the raster file\n",
    "    with rasterio.open(path_to_WTD_proxy) as src:\n",
    "        # Clip the raster to the extent of the shapefile\n",
    "        out_image, out_transform = mask(src, shape.geometry, crop=True)\n",
    "        shape_WTL = slope * out_image + intercept #correction of WTD_proxy with slope and intercept found in WTD_proxy.ipynb\n",
    "        out_meta = src.meta.copy()\n",
    "    \n",
    "    # Update the metadata of the clipped raster\n",
    "    out_meta.update({\"driver\": \"GTiff\",\n",
    "                      \"height\": out_image.shape[1],\n",
    "                      \"width\": out_image.shape[2],\n",
    "                      \"transform\": out_transform})\n",
    "    \n",
    "    # Write the clipped raster to disk\n",
    "    with rasterio.open(path_out_WTD_clipped, \"w\", **out_meta) as dest:\n",
    "        dest.write(shape_WTL)\n",
    "\n",
    "\n",
    "def mean_WTD_in_shape(site, path_to_corr_WTD):\n",
    "    with rasterio.open(path_to_corr_WTD, \"r\") as src:\n",
    "        #src.meta.update({'nodata': 0})\n",
    "        wtd = src.read(1)\n",
    "        mean_wtd = np.nanmean(wtd)\n",
    "        print(f\"Mean WTD at {site} is: {mean_wtd:.2f} cm\")"
   ]
  },
  {
   "cell_type": "code",
   "execution_count": 33,
   "id": "b8c1cffe-8359-457f-8c19-abdbf10bf0ff",
   "metadata": {},
   "outputs": [],
   "source": [
    "WTD_in_shape(path_footpr_hals, path_to_WTD_proxy, sl_int_hals[0], sl_int_hals[1], path_out_WTD_hals)"
   ]
  },
  {
   "cell_type": "code",
   "execution_count": 34,
   "id": "634028a0-29e6-473a-b6dc-957b6315618c",
   "metadata": {},
   "outputs": [],
   "source": [
    "WTD_in_shape(path_footpr_halm, path_to_WTD_proxy, sl_int_halm[0], sl_int_halm[1], path_out_WTD_halm)"
   ]
  },
  {
   "cell_type": "code",
   "execution_count": 35,
   "id": "801335dd-852b-4167-b98c-ca698f6112c7",
   "metadata": {},
   "outputs": [],
   "source": [
    "WTD_in_shape(path_footpr_sto, path_to_WTD_proxy, sl_int_sto[0], sl_int_sto[1], path_out_WTD_sto)"
   ]
  },
  {
   "cell_type": "code",
   "execution_count": 36,
   "id": "448e9fe2-9e1c-4fed-9856-32424a5dc5bf",
   "metadata": {},
   "outputs": [],
   "source": [
    "WTD_in_shape(path_footpr_deg, path_to_WTD_proxy, sl_int_deg[0], sl_int_deg[1], path_out_WTD_deg)"
   ]
  },
  {
   "cell_type": "code",
   "execution_count": null,
   "id": "7ae4dce9-63e1-4294-85ad-1613c3ea9586",
   "metadata": {},
   "outputs": [],
   "source": []
  },
  {
   "cell_type": "code",
   "execution_count": 20,
   "id": "ff1e2a04-3fb9-42e0-83f8-c4c2c2961f1b",
   "metadata": {},
   "outputs": [],
   "source": [
    "path_to_shapefile = path_footpr_deg\n",
    "path_to_WTD_proxy = path_to_WTD_proxy\n",
    "slope = sl_int_deg[0]\n",
    "intercept = sl_int_deg[1]\n",
    "path_out_WTD_clipped = path_out_WTD_deg"
   ]
  },
  {
   "cell_type": "code",
   "execution_count": 23,
   "id": "fbf1798d-47de-4b15-b82e-c3ec2991a50a",
   "metadata": {},
   "outputs": [],
   "source": [
    "    with rasterio.open(path_to_WTD_proxy) as src:\n",
    "        # Clip the raster to the extent of the shapefile\n",
    "        out_image, out_transform = mask(src, shape.geometry, crop=True)\n",
    "        shape_WTL = slope * out_image + intercept #correction of WTD_proxy with slope and intercept found in WTD_proxy.ipynb\n",
    "        out_meta = src.meta.copy()"
   ]
  },
  {
   "cell_type": "code",
   "execution_count": 29,
   "id": "227ec555-9577-4fde-ae7d-edad320eac90",
   "metadata": {},
   "outputs": [
    {
     "data": {
      "text/plain": [
       "10.723133"
      ]
     },
     "execution_count": 29,
     "metadata": {},
     "output_type": "execute_result"
    }
   ],
   "source": [
    "np.nanmin(out_image)\n",
    "np.nanmax(shape_WTL)"
   ]
  },
  {
   "cell_type": "code",
   "execution_count": null,
   "id": "820072cb-00d4-4073-b0a9-7c09baefb808",
   "metadata": {},
   "outputs": [],
   "source": [
    "    # Load the shapefile\n",
    "    shape = gpd.read_file(path_to_shapefile)\n",
    "    \n",
    "    # Open the raster file\n",
    "    with rasterio.open(path_to_WTD_proxy) as src:\n",
    "        # Clip the raster to the extent of the shapefile\n",
    "        out_image, out_transform = mask(src, shape.geometry, crop=True)\n",
    "        shape_WTL = slope * out_image + intercept #correction of WTD_proxy with slope and intercept found in WTD_proxy.ipynb\n",
    "        out_meta = src.meta.copy()\n",
    "    \n",
    "    # Update the metadata of the clipped raster\n",
    "    out_meta.update({\"driver\": \"GTiff\",\n",
    "                      \"height\": out_image.shape[1],\n",
    "                      \"width\": out_image.shape[2],\n",
    "                      \"transform\": out_transform})\n",
    "    \n",
    "    # Write the clipped raster to disk\n",
    "    with rasterio.open(path_out_WTD_clipped, \"w\", **out_meta) as dest:\n",
    "        dest.write(out_image)"
   ]
  },
  {
   "cell_type": "code",
   "execution_count": 11,
   "id": "3fc528bf-25a9-4ed2-b9c7-471430732df3",
   "metadata": {},
   "outputs": [
    {
     "name": "stdout",
     "output_type": "stream",
     "text": [
      "Mean WTD at Degero is: 77.23 cm\n",
      "Mean WTD at Halsingfors is: 4.82 cm\n",
      "Mean WTD at Halmyran is: -0.94 cm\n",
      "Mean WTD at Stortjarn is: 9.67 cm\n"
     ]
    }
   ],
   "source": [
    "#printing mean\n",
    "mean_WTD_in_shape(\"Degero\", path_out_WTD_deg)\n",
    "mean_WTD_in_shape(\"Halsingfors\", path_out_WTD_hals)\n",
    "mean_WTD_in_shape(\"Halmyran\", path_out_WTD_halm)\n",
    "mean_WTD_in_shape(\"Stortjarn\", path_out_WTD_sto)"
   ]
  },
  {
   "cell_type": "code",
   "execution_count": null,
   "id": "3011a4d8-3bf6-4986-8c13-725125dc6be3",
   "metadata": {},
   "outputs": [],
   "source": []
  }
 ],
 "metadata": {
  "kernelspec": {
   "display_name": "Python 3 (Spyder)",
   "language": "python3",
   "name": "python3"
  },
  "language_info": {
   "codemirror_mode": {
    "name": "ipython",
    "version": 3
   },
   "file_extension": ".py",
   "mimetype": "text/x-python",
   "name": "python",
   "nbconvert_exporter": "python",
   "pygments_lexer": "ipython3",
   "version": "3.9.15"
  }
 },
 "nbformat": 4,
 "nbformat_minor": 5
}
