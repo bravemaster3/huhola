{
 "cells": [
  {
   "cell_type": "code",
   "execution_count": 1,
   "id": "715ac6a9-c418-4ad8-a6e9-594f335d2e1f",
   "metadata": {},
   "outputs": [],
   "source": [
    "import leafmap\n",
    "from samgeo import tms_to_geotiff\n",
    "from samgeo import SamGeo"
   ]
  },
  {
   "cell_type": "code",
   "execution_count": 2,
   "id": "8609de2b-363d-4fb4-92c9-a44cfa7b7667",
   "metadata": {},
   "outputs": [
    {
     "data": {
      "application/vnd.jupyter.widget-view+json": {
       "model_id": "9907cc423e2e48f793eb5b326c1b0d19",
       "version_major": 2,
       "version_minor": 0
      },
      "text/plain": [
       "Map(center=[64.1776, 19.5725], controls=(ZoomControl(options=['position', 'zoom_in_text', 'zoom_in_title', 'zo…"
      ]
     },
     "execution_count": 2,
     "metadata": {},
     "output_type": "execute_result"
    }
   ],
   "source": [
    "m = leafmap.Map(center=[64.1776, 19.5725], zoom = 18, height=\"800px\")\n",
    "m.add_basemap(\"SATELLITE\")\n",
    "m"
   ]
  },
  {
   "cell_type": "code",
   "execution_count": 3,
   "id": "198f28a7-0b84-4a87-a220-3e1ce4fe148f",
   "metadata": {},
   "outputs": [],
   "source": [
    "image = r\"C:\\BRAVE\\slu\\UAV_series\\Degero\\Degero_2022-08-03_8bit.tif\""
   ]
  },
  {
   "cell_type": "code",
   "execution_count": 4,
   "id": "30147e33-5bfd-4408-9d0e-0b28e3637550",
   "metadata": {
    "scrolled": true
   },
   "outputs": [
    {
     "data": {
      "application/vnd.jupyter.widget-view+json": {
       "model_id": "9a6cbb638b9f46c2879cd5f03c33691f",
       "version_major": 2,
       "version_minor": 0
      },
      "text/plain": [
       "Map(bottom=17822130.0, center=[64.1776, 19.5725], controls=(ZoomControl(options=['position', 'zoom_in_text', '…"
      ]
     },
     "execution_count": 4,
     "metadata": {},
     "output_type": "execute_result"
    }
   ],
   "source": [
    "m.layers[-1].visible = False\n",
    "m.add_raster(image, layer_name=\"Image\")\n",
    "m"
   ]
  },
  {
   "cell_type": "code",
   "execution_count": 17,
   "id": "3cb70a8c-7685-4b4f-9ee5-993078251b03",
   "metadata": {},
   "outputs": [],
   "source": [
    "#https://leafmap.org/notebooks/75_segment_anything/#download-map-tiles\n",
    "#https://www.youtube.com/watch?v=ayFgAj23BfI\n",
    "sam = SamGeo(\n",
    "    model_type=\"vit_h\",\n",
    "    checkpoint=\"sam_vit_h_4b8939.pth\",\n",
    "    sam_kwargs=None,\n",
    ")"
   ]
  },
  {
   "cell_type": "code",
   "execution_count": 22,
   "id": "7007050e-2dda-4490-b06b-6a0c52ee2a04",
   "metadata": {},
   "outputs": [
    {
     "name": "stderr",
     "output_type": "stream",
     "text": [
      "100%|██████████| 3060/3060 [3:51:56<00:00,  4.55s/it]  \n"
     ]
    }
   ],
   "source": [
    "mask_path = r\"C:\\BRAVE\\slu\\UAV_series\\Degero\\SAM_WD\\outputs\\mask.tif\"\n",
    "sam.generate(\n",
    "    image, mask_path, batch=True, foreground=True, erosion_kernel=(3, 3), mask_multiplier=255\n",
    ")"
   ]
  },
  {
   "cell_type": "code",
   "execution_count": 9,
   "id": "58ada64c-d164-46ec-aae7-adcbccb02062",
   "metadata": {},
   "outputs": [],
   "source": [
    "#if m.user_rois is not None:\n",
    "#    boxes = m.user_rois"
   ]
  },
  {
   "cell_type": "markdown",
   "id": "b4383c78-2355-4767-a5ff-5360a53c3c3b",
   "metadata": {},
   "source": [
    "# Polygonize the mask"
   ]
  },
  {
   "cell_type": "code",
   "execution_count": 24,
   "id": "3ecff993-f0fb-4588-8486-6649871b207f",
   "metadata": {},
   "outputs": [],
   "source": [
    "vector = r\"C:\\BRAVE\\slu\\UAV_series\\Degero\\SAM_WD\\outputs\\segments.gpkg\"\n",
    "sam.tiff_to_gpkg(mask_path, vector, simplify_tolerance=None)"
   ]
  }
 ],
 "metadata": {
  "kernelspec": {
   "display_name": "Python 3 (Spyder)",
   "language": "python3",
   "name": "python3"
  },
  "language_info": {
   "codemirror_mode": {
    "name": "ipython",
    "version": 3
   },
   "file_extension": ".py",
   "mimetype": "text/x-python",
   "name": "python",
   "nbconvert_exporter": "python",
   "pygments_lexer": "ipython3",
   "version": "3.9.15"
  }
 },
 "nbformat": 4,
 "nbformat_minor": 5
}
