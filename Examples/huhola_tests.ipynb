{
 "cells": [
  {
   "cell_type": "markdown",
   "id": "060ff8c6-50ca-4428-8c8c-a711bea8ab1e",
   "metadata": {},
   "source": [
    "## Importing HuHoLa Module. But in Spyder, need to append the root path before use. Can work without sys.append in some editors"
   ]
  },
  {
   "cell_type": "code",
   "execution_count": null,
   "id": "c009c747-9186-4c82-adb4-c0e1d70c6b8a",
   "metadata": {},
   "outputs": [],
   "source": [
    "import sys\n",
    "sys.path.append('../huhola/')\n",
    "from microtopography import HuHoLa"
   ]
  },
  {
   "cell_type": "markdown",
   "id": "81bac0ca-875c-4467-9db1-41260b2e2ed8",
   "metadata": {},
   "source": [
    "## Creating an instance of HuHoLa class\n",
    "We are using a 0 threshold fill first"
   ]
  },
  {
   "cell_type": "code",
   "execution_count": null,
   "id": "afabe55c-16eb-494a-9b08-8a6417bbc458",
   "metadata": {},
   "outputs": [],
   "source": [
    "m = HuHoLa(path_wbt = \"C:/Users/kono0001/WhiteboxTools_win_amd64/WBT\",\n",
    "           wd = r\"C:\\github\\Microtopography-Script\\temp_del\",\n",
    "           path_dem = r\"C:\\BRAVE\\personal\\Shirin\\0.5res_DEM_Trollberget\\0.5res_DEM_Trollberget.tif\",\n",
    "           threshold_fill = 0.0)"
   ]
  },
  {
   "cell_type": "code",
   "execution_count": null,
   "id": "90707648-2178-407d-9382-5abf393eafcb",
   "metadata": {},
   "outputs": [],
   "source": [
    "m.generate_microtopography()"
   ]
  },
  {
   "cell_type": "code",
   "execution_count": null,
   "id": "d94b1000-d49b-4ca2-8f5b-d30658613d31",
   "metadata": {},
   "outputs": [],
   "source": [
    "m.wd = r\"C:\\github\\Microtopography-Script\\temp_del\\004\"\n",
    "m.threshold_fill = 0.04\n",
    "m.classify_microtopography()"
   ]
  },
  {
   "cell_type": "code",
   "execution_count": null,
   "id": "63d7d57d-ea5b-4650-8c7a-56e93d8b2745",
   "metadata": {},
   "outputs": [],
   "source": []
  }
 ],
 "metadata": {
  "kernelspec": {
   "display_name": "Python 3 (Spyder)",
   "language": "python3",
   "name": "python3"
  },
  "language_info": {
   "codemirror_mode": {
    "name": "ipython",
    "version": 3
   },
   "file_extension": ".py",
   "mimetype": "text/x-python",
   "name": "python",
   "nbconvert_exporter": "python",
   "pygments_lexer": "ipython3",
   "version": "3.9.15"
  }
 },
 "nbformat": 4,
 "nbformat_minor": 5
}
