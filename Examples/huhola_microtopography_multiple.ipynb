{
 "cells": [
  {
   "cell_type": "markdown",
   "id": "060ff8c6-50ca-4428-8c8c-a711bea8ab1e",
   "metadata": {},
   "source": [
    "## Importing HuHoLa Module. But in Spyder, need to append the root path before use. Can work without sys.append in some editors"
   ]
  },
  {
   "cell_type": "code",
   "execution_count": null,
   "id": "c009c747-9186-4c82-adb4-c0e1d70c6b8a",
   "metadata": {},
   "outputs": [],
   "source": [
    "import sys\n",
    "sys.path.append('../huhola/')\n",
    "from microtopography import HuHoLa"
   ]
  },
  {
   "cell_type": "markdown",
   "id": "81bac0ca-875c-4467-9db1-41260b2e2ed8",
   "metadata": {},
   "source": [
    "## Creating an instance of HuHoLa class\n",
    "We are using a 0 threshold fill first"
   ]
  },
  {
   "cell_type": "code",
   "execution_count": null,
   "id": "afabe55c-16eb-494a-9b08-8a6417bbc458",
   "metadata": {},
   "outputs": [],
   "source": [
    "m = HuHoLa(path_wbt = r\"//storage-ume.slu.se/home$/kono0001/My Documents/WhiteboxTools_win_amd64/WhiteboxTools_win_amd64/WBT\",\n",
    "           wd = r\"C:\\Users\\kono0001\\OneDrive - Sveriges lantbruksuniversitet\\OTHER\\github\\huhola\\Examples\\output\",\n",
    "           path_dem = r\"data\\dem_50cm.tif\",\n",
    "           threshold_fill = 0.0)"
   ]
  },
  {
   "cell_type": "markdown",
   "id": "ae7c4c84-7fc7-4dad-a29f-1ab1e86c67ca",
   "metadata": {},
   "source": [
    "## Generating microtopography, with the default threshold (0), creating all intermediary outputs too"
   ]
  },
  {
   "cell_type": "code",
   "execution_count": null,
   "id": "90707648-2178-407d-9382-5abf393eafcb",
   "metadata": {},
   "outputs": [],
   "source": [
    "m.generate_microtopography()"
   ]
  },
  {
   "cell_type": "markdown",
   "id": "3e24cda2-20a5-404f-b8e1-4b70da0302aa",
   "metadata": {},
   "source": [
    "## Now let's set a threshold to create the final microtopography classification. For 50 cm DEM, suggested threshold is 4 cm (or 3). If you have ground validation points, you can try 3 too. 4 has been validated. Default number of microtopography classes is 3"
   ]
  },
  {
   "cell_type": "code",
   "execution_count": null,
   "id": "d94b1000-d49b-4ca2-8f5b-d30658613d31",
   "metadata": {},
   "outputs": [],
   "source": [
    "m.wd = r\"C:\\Users\\kono0001\\OneDrive - Sveriges lantbruksuniversitet\\OTHER\\github\\huhola\\Examples\\output_threshold\"\n",
    "m.threshold_fill = 0.04\n",
    "m.classify_microtopography()"
   ]
  },
  {
   "cell_type": "markdown",
   "id": "d927dedc-bce2-4497-bbef-44fb9e136a39",
   "metadata": {},
   "source": [
    "## We can also classify into 5 classes by setting the number of classes to 5 before classifying microtopography"
   ]
  },
  {
   "cell_type": "code",
   "execution_count": null,
   "id": "a37c20a8-c4ff-432d-bfdc-5c26ec70063b",
   "metadata": {},
   "outputs": [],
   "source": [
    "m.threshold_fill = 0.04\n",
    "m.number_classes = 5\n",
    "m.classify_microtopography()"
   ]
  },
  {
   "cell_type": "code",
   "execution_count": null,
   "id": "f67c3f4f-4e83-4254-8eb2-4e65bf2317ef",
   "metadata": {},
   "outputs": [],
   "source": []
  }
 ],
 "metadata": {
  "kernelspec": {
   "display_name": "huhola (ipykernel)",
   "language": "python",
   "name": "huhola"
  },
  "language_info": {
   "codemirror_mode": {
    "name": "ipython",
    "version": 3
   },
   "file_extension": ".py",
   "mimetype": "text/x-python",
   "name": "python",
   "nbconvert_exporter": "python",
   "pygments_lexer": "ipython3",
   "version": "3.13.0"
  }
 },
 "nbformat": 4,
 "nbformat_minor": 5
}
