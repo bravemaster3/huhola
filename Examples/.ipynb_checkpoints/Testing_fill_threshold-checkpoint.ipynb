{
 "cells": [
  {
   "cell_type": "code",
   "execution_count": null,
   "id": "7fe902ba-8a3c-42f3-bbd0-cb27f782bfe7",
   "metadata": {},
   "outputs": [],
   "source": [
    "import os\n",
    "\n",
    "import sys\n",
    "sys.path.append('../huhola/')\n",
    "from microtopography import HuHoLa"
   ]
  },
  {
   "cell_type": "markdown",
   "id": "1e677135-5079-42c9-a33a-291483d53112",
   "metadata": {},
   "source": [
    "# 50 cm DEM"
   ]
  },
  {
   "cell_type": "code",
   "execution_count": null,
   "id": "d105a057-80f6-4a08-a6cc-b4ce5e49738d",
   "metadata": {},
   "outputs": [],
   "source": [
    "#Creating variables...\n",
    "working_dir = r\"D:\\For_Nils\\Temp_tests\\HuHola_outputs\\Final_Microtopo\\Microtopo_50cm_different_thresh\"\n",
    "wd_0 = os.path.join(working_dir, \"Microtopo_50cm_000\")\n",
    "if not os.path.isdir(wd_0):\n",
    "    os.mkdir(wd_0)\n",
    "path_dem = r\"D:\\For_Nils\\data\\Degfert_DEM.tif\"\n",
    "path_wbt = \"C:/Users/kono0001/WhiteboxTools_win_amd64/WBT\"\n",
    "\n",
    "path_ground_truth = r\"D:\\For_Nils\\Microtopography_validation\\Latest_field_validation\\Selected_Valid_pts_ext.shp\""
   ]
  },
  {
   "cell_type": "code",
   "execution_count": null,
   "id": "e2cc1cfd-d831-489e-ad2f-96904dca7463",
   "metadata": {},
   "outputs": [],
   "source": [
    "# Creating an instance of HuHoLa\n",
    "m = HuHoLa(path_wbt = path_wbt,\n",
    "           wd = wd_0,\n",
    "           path_dem = path_dem)"
   ]
  },
  {
   "cell_type": "code",
   "execution_count": null,
   "id": "595d9a45-69d9-45e2-9b51-96e123da9d11",
   "metadata": {},
   "outputs": [],
   "source": [
    "# Running the microtopography model\n",
    "m.generate_microtopography()"
   ]
  },
  {
   "cell_type": "code",
   "execution_count": null,
   "id": "bc1a1f4b-ee4c-4a2d-acb3-a8e4524c99ee",
   "metadata": {},
   "outputs": [],
   "source": [
    "# Validation\n",
    "HuHoLa.field_validation(path_to_raster = os.path.join(wd_0, \"FINAL_MICROTOPO3.tif\"),\n",
    "                  path_to_shapefile = path_ground_truth,\n",
    "                  colname_model = \"Value\", \n",
    "                  colname_field = \"Field\", \n",
    "                  path_out = wd_0)"
   ]
  },
  {
   "cell_type": "code",
   "execution_count": null,
   "id": "6b84e030-6689-4f6a-9df1-0b9ea1d5fd47",
   "metadata": {
    "scrolled": true
   },
   "outputs": [],
   "source": [
    "# Running microtopography model for different threshold fill\n",
    "all_thresh = range(1, 11, 1)\n",
    "for i in all_thresh:\n",
    "    fill_until = i/100\n",
    "    \n",
    "    print(f\"Now processing threshold: {fill_until}\")\n",
    "    fill_until_str = str(\"{:.2f}\".format(fill_until)).replace(\".\", \"\")\n",
    "    \n",
    "    w_dir = os.path.join(working_dir, \"Microtopo_50cm_\" + fill_until_str)\n",
    "    \n",
    "    if not os.path.isdir(w_dir):\n",
    "        os.mkdir(w_dir)\n",
    "    m.wd = w_dir\n",
    "    m.threshold_fill = fill_until\n",
    "    m.number_classes = None #if you want both 3 class and 5 class microtopography\n",
    "    m.classify_microtopography()\n",
    "    \n",
    "    HuHoLa.field_validation(path_to_raster = os.path.join(w_dir, \"FINAL_MICROTOPO3.tif\"),\n",
    "                      path_to_shapefile = path_ground_truth,\n",
    "                      colname_model = \"Value\", \n",
    "                      colname_field = \"Field\", \n",
    "                      path_out = w_dir)"
   ]
  },
  {
   "cell_type": "markdown",
   "id": "a309faaf-780e-4843-b5d2-3c96641dcf8d",
   "metadata": {},
   "source": [
    "# 30 cm DEM"
   ]
  },
  {
   "cell_type": "code",
   "execution_count": null,
   "id": "fd8a7486-235b-472c-a437-53bf773d3834",
   "metadata": {},
   "outputs": [],
   "source": [
    "#Creating variables...\n",
    "working_dir = r\"D:\\For_Nils\\Temp_tests\\HuHola_outputs\\Final_Microtopo\\Microtopo_30cm_different_thresh\"\n",
    "wd_0 = os.path.join(working_dir, \"Microtopo_30cm_000\")\n",
    "if not os.path.isdir(wd_0):\n",
    "    os.mkdir(wd_0)\n",
    "path_dem = r\"D:\\For_Nils\\data\\KRI_DEM_30cm.tif\"\n",
    "path_wbt = \"C:/Users/kono0001/WhiteboxTools_win_amd64/WBT\"\n",
    "\n",
    "path_ground_truth = r\"D:\\For_Nils\\Microtopography_validation\\Latest_field_validation\\Selected_Valid_pts_ext.shp\""
   ]
  },
  {
   "cell_type": "code",
   "execution_count": null,
   "id": "60f0a6dc-3f90-4049-b7e3-8fd4ad6e2102",
   "metadata": {},
   "outputs": [],
   "source": [
    "# Creating an instance of HuHoLa\n",
    "m = HuHoLa(path_wbt = path_wbt,\n",
    "           wd = wd_0,\n",
    "           path_dem = path_dem)"
   ]
  },
  {
   "cell_type": "code",
   "execution_count": null,
   "id": "e3ce65c9-3f44-40fd-9905-3e9e6f28ab40",
   "metadata": {},
   "outputs": [],
   "source": [
    "# Running the microtopography model\n",
    "m.generate_microtopography()"
   ]
  },
  {
   "cell_type": "code",
   "execution_count": null,
   "id": "6653b34b-295c-4ad0-b617-23d33a97c309",
   "metadata": {},
   "outputs": [],
   "source": [
    "# Validation\n",
    "HuHoLa.field_validation(path_to_raster = os.path.join(wd_0, \"FINAL_MICROTOPO3.tif\"),\n",
    "                  path_to_shapefile = path_ground_truth,\n",
    "                  colname_model = \"Value\", \n",
    "                  colname_field = \"Field\", \n",
    "                  path_out = wd_0)"
   ]
  },
  {
   "cell_type": "code",
   "execution_count": null,
   "id": "0e76b69c-c825-441e-943b-4e1e2f7a0751",
   "metadata": {},
   "outputs": [],
   "source": [
    "# Running microtopography model for different threshold fill\n",
    "all_thresh = range(1, 11, 1)\n",
    "for i in all_thresh:\n",
    "    fill_until = i/100\n",
    "    \n",
    "    print(f\"Now processing threshold: {fill_until}\")\n",
    "    fill_until_str = str(\"{:.2f}\".format(fill_until)).replace(\".\", \"\")\n",
    "    \n",
    "    w_dir = os.path.join(working_dir, \"Microtopo_30cm_\" + fill_until_str)\n",
    "    \n",
    "    if not os.path.isdir(w_dir):\n",
    "        os.mkdir(w_dir)\n",
    "    m.wd = w_dir\n",
    "    m.threshold_fill = fill_until\n",
    "    m.number_classes = None #if you want both 3 class and 5 class microtopography\n",
    "    m.classify_microtopography()\n",
    "    \n",
    "    HuHoLa.field_validation(path_to_raster = os.path.join(w_dir, \"FINAL_MICROTOPO3.tif\"),\n",
    "                      path_to_shapefile = path_ground_truth,\n",
    "                      colname_model = \"Value\", \n",
    "                      colname_field = \"Field\", \n",
    "                      path_out = w_dir)"
   ]
  },
  {
   "cell_type": "markdown",
   "id": "78b574d7-9dab-46b8-aad4-2d42d4f7ece3",
   "metadata": {},
   "source": [
    "# Resampled different resolutions cm DEM"
   ]
  },
  {
   "cell_type": "code",
   "execution_count": null,
   "id": "a1a2d942-8d5f-4f58-8003-15b4d723fbff",
   "metadata": {},
   "outputs": [],
   "source": [
    "dir_rasters = \"C:/BRAVE/slu/UAV_series/Degero/DEM/transformed\"\n",
    "tif_files = [file for file in os.listdir(dir_rasters) if file.endswith('.tif')]\n",
    "\n",
    "working_dir = r\"D:\\For_Nils\\Temp_tests\\HuHola_outputs\\Final_Microtopo\\Transformed_DEM_Microtopo\"\n",
    "if not os.path.isdir(working_dir):\n",
    "    os.mkdir(working_dir)\n",
    "\n",
    "all_thresh = range(1, 11, 1)\n",
    "\n",
    "path_wbt = \"C:/Users/kono0001/WhiteboxTools_win_amd64/WBT\"\n",
    "\n",
    "path_ground_truth = r\"D:\\For_Nils\\Microtopography_validation\\Latest_field_validation\\Selected_Valid_pts_ext.shp\""
   ]
  },
  {
   "cell_type": "code",
   "execution_count": null,
   "id": "31df6e02-78f7-46de-ab20-16f259d0a358",
   "metadata": {},
   "outputs": [],
   "source": [
    "   \n",
    "for file in tif_files:\n",
    "\n",
    "    path_dem = os.path.join(dir_rasters, file)\n",
    "\n",
    "    wd_0 = os.path.join(working_dir, os.path.basename(file)[:-4] + \"_\" + \"000\")\n",
    "    if not os.path.isdir(wd_0):\n",
    "        os.mkdir(wd_0)\n",
    "                            \n",
    "    # Creating an instance of HuHoLa\n",
    "    m = HuHoLa(path_wbt = path_wbt,\n",
    "               wd = wd_0,\n",
    "               path_dem = path_dem)\n",
    "    # Running the microtopography model\n",
    "    m.generate_microtopography()\n",
    "\n",
    "    # Validation\n",
    "    HuHoLa.field_validation(path_to_raster = os.path.join(wd_0, \"FINAL_MICROTOPO3.tif\"),\n",
    "                      path_to_shapefile = path_ground_truth,\n",
    "                      colname_model = \"Value\", \n",
    "                      colname_field = \"Field\", \n",
    "                      path_out = wd_0)\n",
    "\n",
    "    for i in all_thresh:\n",
    "        fill_until = i/100\n",
    "        fill_until_str = str(\"{:.2f}\".format(fill_until)).replace(\".\", \"\")\n",
    "\n",
    "        w_dir = os.path.join(working_dir, os.path.basename(file)[:-4] + \"_\" + fill_until_str)\n",
    "        \n",
    "        if not os.path.isdir(w_dir):\n",
    "            os.mkdir(w_dir)\n",
    "\n",
    "        if not os.path.isdir(w_dir):\n",
    "            os.mkdir(w_dir)\n",
    "        m.wd = w_dir\n",
    "        m.threshold_fill = fill_until\n",
    "        m.number_classes = None #if you want both 3 class and 5 class microtopography\n",
    "        m.classify_microtopography()\n",
    "        \n",
    "        \n",
    "        HuHoLa.field_validation(path_to_raster = os.path.join(w_dir, \"FINAL_MICROTOPO3.tif\"),\n",
    "                          path_to_shapefile = path_ground_truth,\n",
    "                          colname_model = \"Value\", \n",
    "                          colname_field = \"Field\", \n",
    "                          path_out = w_dir)\n"
   ]
  },
  {
   "cell_type": "code",
   "execution_count": null,
   "id": "e32358d7-a0a7-403a-87c8-0a1c932f7ea4",
   "metadata": {},
   "outputs": [],
   "source": []
  }
 ],
 "metadata": {
  "kernelspec": {
   "display_name": "Python 3 (Spyder)",
   "language": "python3",
   "name": "python3"
  },
  "language_info": {
   "codemirror_mode": {
    "name": "ipython",
    "version": 3
   },
   "file_extension": ".py",
   "mimetype": "text/x-python",
   "name": "python",
   "nbconvert_exporter": "python",
   "pygments_lexer": "ipython3",
   "version": "3.9.15"
  }
 },
 "nbformat": 4,
 "nbformat_minor": 5
}
