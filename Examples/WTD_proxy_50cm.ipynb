{
 "cells": [
  {
   "cell_type": "code",
   "execution_count": 10,
   "id": "29a446b5-0010-4fe7-8a34-5680321a056a",
   "metadata": {},
   "outputs": [],
   "source": [
    "import os\n",
    "\n",
    "import sys\n",
    "sys.path.append('../huhola/')\n",
    "from microtopography import HuHoLa"
   ]
  },
  {
   "cell_type": "code",
   "execution_count": 11,
   "id": "a2bcc1dc-9a14-48f6-ab64-222601a1001d",
   "metadata": {},
   "outputs": [],
   "source": [
    "# -*- coding: utf-8 -*-\n",
    "\"\"\"\n",
    "Created on Tue Sep 12 05:00:16 2023\n",
    "\n",
    "@author: kono0001\n",
    "\"\"\"\n",
    "\n",
    "import pandas as pd\n",
    "pd.set_option('display.max_columns', None)\n",
    "extract_point_from_raster = HuHoLa.extract_point_from_raster\n",
    "perform_linear_regression = HuHoLa.perform_linear_regression\n",
    "convert_raster_units_m_cm = HuHoLa.convert_raster_units_m_cm"
   ]
  },
  {
   "cell_type": "markdown",
   "id": "2e4190a1-2aaf-4e5d-b6f0-de122118b2ca",
   "metadata": {},
   "source": [
    "# First, let's calculate the hol_hum_hei_dep layer with fix_flats"
   ]
  },
  {
   "cell_type": "code",
   "execution_count": 12,
   "id": "c3e7e622-ddca-49de-8567-9066714f16d1",
   "metadata": {},
   "outputs": [],
   "source": [
    "#Creating variables...\n",
    "working_dir = \"D:/For_Nils/Temp_tests/HuHola_outputs/WTD\"\n",
    "wd_0 = os.path.join(working_dir, \"Microtopo_50cm_000\")\n",
    "if not os.path.isdir(wd_0):\n",
    "    os.mkdir(wd_0)\n",
    "path_dem = r\"D:\\For_Nils\\data\\Degfert_DEM.tif\" #r\"D:\\For_Nils\\data\\Degfert_DEM.tif\"\n",
    "path_wbt = \"C:/Users/kono0001/WhiteboxTools_win_amd64/WBT\""
   ]
  },
  {
   "cell_type": "code",
   "execution_count": 86,
   "id": "570c14cd-c092-4d4f-baca-8cdd8bd1bc6e",
   "metadata": {},
   "outputs": [
    {
     "name": "stdout",
     "output_type": "stream",
     "text": [
      "changing the number_classes to 3 because threshold_fill is 0.0 and 3 classes and 5 classes are the same\n"
     ]
    }
   ],
   "source": [
    "# Creating an instance of HuHoLa\n",
    "m = HuHoLa(path_wbt = path_wbt,\n",
    "           wd = wd_0,\n",
    "           fix_flats = True,\n",
    "           flat_increment = 0.001,#0.0001\n",
    "           path_dem = path_dem)"
   ]
  },
  {
   "cell_type": "code",
   "execution_count": 87,
   "id": "95ce8430-7f10-4d6b-8d90-f97226045718",
   "metadata": {},
   "outputs": [],
   "source": [
    "# print(m.p_dem)"
   ]
  },
  {
   "cell_type": "code",
   "execution_count": 88,
   "id": "5c351e16-a074-4792-908f-6606b6e2c4c8",
   "metadata": {},
   "outputs": [
    {
     "name": "stdout",
     "output_type": "stream",
     "text": [
      "Nodata value found in the original data: 0.0\n",
      "Fill 1: ...DEM...\n",
      ".\\whitebox_tools.exe --run=\"FillDepressionsWangAndLiu\" --wd=\"/Users/johnlindsay/Downloads/\\\" --dem='D:/For_Nils/Temp_tests/HuHola_outputs/WTD\\Microtopo_50cm_000\\DEM_prep.tif' --output='D:/For_Nils/Temp_tests/HuHola_outputs/WTD\\Microtopo_50cm_000\\DEM_filled.tif' --fix_flats --flat_increment='0.001' -v --compress_rasters=False\n",
      "\n",
      "****************************************\n",
      "* Welcome to FillDepressionsWangAndLiu *\n",
      "* Powered by WhiteboxTools             *\n",
      "* www.whiteboxgeo.com                  *\n",
      "****************************************\n",
      "Reading data...\n",
      "progress: 0%\n",
      "progress: 1%\n",
      "progress: 2%\n",
      "progress: 3%\n",
      "progress: 4%\n",
      "progress: 5%\n",
      "progress: 6%\n",
      "progress: 7%\n",
      "progress: 8%\n",
      "progress: 9%\n",
      "progress: 10%\n",
      "progress: 11%\n",
      "progress: 12%\n",
      "progress: 13%\n",
      "Progress: 14%\n",
      "Progress: 15%\n",
      "Progress: 16%\n",
      "Progress: 17%\n",
      "Progress: 18%\n",
      "Progress: 19%\n",
      "Progress: 20%\n",
      "Progress: 21%\n",
      "Progress: 22%\n",
      "Progress: 23%\n",
      "Progress: 24%\n",
      "Progress: 25%\n",
      "Progress: 26%\n",
      "Progress: 27%\n",
      "Progress: 28%\n",
      "Progress: 29%\n",
      "Progress: 30%\n",
      "Progress: 31%\n",
      "Progress: 32%\n",
      "Progress: 33%\n",
      "Progress: 34%\n",
      "Progress: 35%\n",
      "Progress: 36%\n",
      "Progress: 37%\n",
      "Progress: 38%\n",
      "Progress: 39%\n",
      "Progress: 40%\n",
      "Progress: 41%\n",
      "Progress: 42%\n",
      "Progress: 43%\n",
      "Progress: 44%\n",
      "Progress: 45%\n",
      "Progress: 46%\n",
      "Progress: 47%\n",
      "Progress: 48%\n",
      "Progress: 49%\n",
      "Progress: 50%\n",
      "Progress: 51%\n",
      "Progress: 52%\n",
      "Progress: 53%\n",
      "Progress: 54%\n",
      "Progress: 55%\n",
      "Progress: 56%\n",
      "Progress: 57%\n",
      "Progress: 58%\n",
      "Progress: 59%\n",
      "Progress: 60%\n",
      "Progress: 61%\n",
      "Progress: 62%\n",
      "Progress: 63%\n",
      "Progress: 64%\n",
      "Progress: 65%\n",
      "Progress: 66%\n",
      "Progress: 67%\n",
      "Progress: 68%\n",
      "Progress: 69%\n",
      "Progress: 70%\n",
      "Progress: 71%\n",
      "Progress: 72%\n",
      "Progress: 73%\n",
      "Progress: 74%\n",
      "Progress: 75%\n",
      "Progress: 76%\n",
      "Progress: 77%\n",
      "Progress: 78%\n",
      "Progress: 79%\n",
      "Progress: 80%\n",
      "Progress: 81%\n",
      "Progress: 82%\n",
      "Progress: 83%\n",
      "Progress: 84%\n",
      "Progress: 85%\n",
      "Progress: 86%\n",
      "Progress: 87%\n",
      "Progress: 88%\n",
      "Progress: 89%\n",
      "Progress: 90%\n",
      "Progress: 91%\n",
      "Progress: 92%\n",
      "Progress: 93%\n",
      "Progress: 94%\n",
      "Progress: 95%\n",
      "Progress: 96%\n",
      "Progress: 97%\n",
      "Progress: 98%\n",
      "Saving data...\n",
      "Output file written\n",
      "Elapsed Time (excluding I/O): 9.154s\n",
      "End of Fill 1: ...DEM...\n",
      "Fill 2: ...Inverted DEM...\n",
      ".\\whitebox_tools.exe --run=\"FillDepressionsWangAndLiu\" --wd=\"/Users/johnlindsay/Downloads/\\\" --dem='D:/For_Nils/Temp_tests/HuHola_outputs/WTD\\Microtopo_50cm_000\\DEM_inverted.tif' --output='D:/For_Nils/Temp_tests/HuHola_outputs/WTD\\Microtopo_50cm_000\\DEM_inverted_filled.tif' --flat_increment='0.001' -v --compress_rasters=False\n",
      "\n",
      "****************************************\n",
      "* Welcome to FillDepressionsWangAndLiu *\n",
      "* Powered by WhiteboxTools             *\n",
      "* www.whiteboxgeo.com                  *\n",
      "****************************************\n",
      "Reading data...\n",
      "progress: 0%\n",
      "progress: 1%\n",
      "progress: 2%\n",
      "progress: 3%\n",
      "progress: 4%\n",
      "progress: 5%\n",
      "progress: 6%\n",
      "progress: 7%\n",
      "progress: 8%\n",
      "progress: 9%\n",
      "progress: 10%\n",
      "progress: 11%\n",
      "progress: 12%\n",
      "progress: 13%\n",
      "Progress: 14%\n",
      "Progress: 15%\n",
      "Progress: 16%\n",
      "Progress: 17%\n",
      "Progress: 18%\n",
      "Progress: 19%\n",
      "Progress: 20%\n",
      "Progress: 21%\n",
      "Progress: 22%\n",
      "Progress: 23%\n",
      "Progress: 24%\n",
      "Progress: 25%\n",
      "Progress: 26%\n",
      "Progress: 27%\n",
      "Progress: 28%\n",
      "Progress: 29%\n",
      "Progress: 30%\n",
      "Progress: 31%\n",
      "Progress: 32%\n",
      "Progress: 33%\n",
      "Progress: 34%\n",
      "Progress: 35%\n",
      "Progress: 36%\n",
      "Progress: 37%\n",
      "Progress: 38%\n",
      "Progress: 39%\n",
      "Progress: 40%\n",
      "Progress: 41%\n",
      "Progress: 42%\n",
      "Progress: 43%\n",
      "Progress: 44%\n",
      "Progress: 45%\n",
      "Progress: 46%\n",
      "Progress: 47%\n",
      "Progress: 48%\n",
      "Progress: 49%\n",
      "Progress: 50%\n",
      "Progress: 51%\n",
      "Progress: 52%\n",
      "Progress: 53%\n",
      "Progress: 54%\n",
      "Progress: 55%\n",
      "Progress: 56%\n",
      "Progress: 57%\n",
      "Progress: 58%\n",
      "Progress: 59%\n",
      "Progress: 60%\n",
      "Progress: 61%\n",
      "Progress: 62%\n",
      "Progress: 63%\n",
      "Progress: 64%\n",
      "Progress: 65%\n",
      "Progress: 66%\n",
      "Progress: 67%\n",
      "Progress: 68%\n",
      "Progress: 69%\n",
      "Progress: 70%\n",
      "Progress: 71%\n",
      "Progress: 72%\n",
      "Progress: 73%\n",
      "Progress: 74%\n",
      "Progress: 75%\n",
      "Progress: 76%\n",
      "Progress: 77%\n",
      "Progress: 78%\n",
      "Progress: 79%\n",
      "Progress: 80%\n",
      "Progress: 81%\n",
      "Progress: 82%\n",
      "Progress: 83%\n",
      "Progress: 84%\n",
      "Progress: 85%\n",
      "Progress: 86%\n",
      "Progress: 87%\n",
      "Progress: 88%\n",
      "Progress: 89%\n",
      "Progress: 90%\n",
      "Progress: 91%\n",
      "Progress: 92%\n",
      "Progress: 93%\n",
      "Progress: 94%\n",
      "Progress: 95%\n",
      "Progress: 96%\n",
      "Progress: 97%\n",
      "Progress: 98%\n",
      "Saving data...\n",
      "Output file written\n",
      "Elapsed Time (excluding I/O): 8.0s\n",
      "End of Fill 2: ...Inverted DEM...\n",
      "The main output is saved at the path:D:/For_Nils/Temp_tests/HuHola_outputs/WTD\\Microtopo_50cm_000\\FINAL_MICROTOPO3.tif and/or D:/For_Nils/Temp_tests/HuHola_outputs/WTD\\Microtopo_50cm_000\\FINAL_MICROTOPO5.tif\n",
      "Thanks for using the code, and validate the output if you have any ground truth\n"
     ]
    }
   ],
   "source": [
    "# Running the microtopography model\n",
    "m.generate_microtopography()"
   ]
  },
  {
   "cell_type": "code",
   "execution_count": 89,
   "id": "130592e1-48df-41ee-b185-c406a09661bf",
   "metadata": {},
   "outputs": [],
   "source": [
    "# This cell is temporary. TO be commented out after testing...\n",
    "# m.level(wd_0)\n",
    "# path_to_wtd_proxy_m = os.path.join(wd_0, \"level.tif\")\n",
    "# path_to_wtd_proxy = os.path.join(wd_0, \"level_cm.tif\")\n",
    "\n",
    "# convert_raster_units_m_cm(path_to_wtd_proxy_m, path_to_wtd_proxy)"
   ]
  },
  {
   "cell_type": "code",
   "execution_count": 90,
   "id": "95562b8e-9c19-4343-8cb6-2ebd69b3215c",
   "metadata": {
    "scrolled": true
   },
   "outputs": [],
   "source": [
    "path_to_wtd_proxy_m = os.path.join(wd_0, \"hol_hum_depth_height.tif\")\n",
    "path_to_wtd_proxy = os.path.join(wd_0, \"hol_hum_depth_height_cm.tif\")\n",
    "\n",
    "convert_raster_units_m_cm(path_to_wtd_proxy_m, path_to_wtd_proxy)"
   ]
  },
  {
   "cell_type": "code",
   "execution_count": 91,
   "id": "d7ba7831-a4b5-45ae-a8d1-0e682fbd2048",
   "metadata": {},
   "outputs": [
    {
     "data": {
      "text/plain": [
       "'D:/For_Nils/Temp_tests/HuHola_outputs/WTD\\\\Microtopo_50cm_000\\\\hol_hum_depth_height_cm.tif'"
      ]
     },
     "execution_count": 91,
     "metadata": {},
     "output_type": "execute_result"
    }
   ],
   "source": [
    " path_to_wtd_proxy"
   ]
  },
  {
   "cell_type": "markdown",
   "id": "37cfafe8-78b7-4546-8312-c58117c852db",
   "metadata": {},
   "source": [
    "# Now, let's extract WTD_proxy and perform some linear regression"
   ]
  },
  {
   "cell_type": "code",
   "execution_count": 92,
   "id": "9938af1c-3435-4e63-8eb3-10e542925987",
   "metadata": {},
   "outputs": [],
   "source": [
    "\"\"\"\n",
    "Variables:\n",
    "\"\"\"\n",
    "#out_dir = \"D:/For_Nils/Temp_tests/HuHola_outputs/WTD/\"\n",
    "path_to_shape_halm = r\"C:\\BRAVE\\slu\\MyPhD\\WTD_modelling_simple\\Data\\Shapefiles\\halmyran_wat.shp\"\n",
    "\n",
    "path_to_shape_hals = r\"C:\\BRAVE\\slu\\MyPhD\\WTD_modelling_simple\\Data\\Shapefiles\\halsingfors_wat.shp\"\n",
    "path_to_shape_sto = r\"C:\\BRAVE\\slu\\MyPhD\\WTD_modelling_simple\\Data\\Shapefiles\\stortjarn_wat.shp\"\n",
    "path_to_shape_deg = r\"C:\\BRAVE\\slu\\MyPhD\\WTD_modelling_simple\\Data\\Shapefiles\\degero_wat.shp\"\n",
    "\n",
    "path_to_manual_WTD = r\"C:\\BRAVE\\slu\\MyPhD\\WTD_modelling_simple\\Data\\Manual_WTD\\Manual water table measurements.xlsx\""
   ]
  },
  {
   "cell_type": "code",
   "execution_count": 93,
   "id": "3a133f63-a548-4f31-b8b1-540df0531a44",
   "metadata": {},
   "outputs": [
    {
     "data": {
      "text/plain": [
       "'\\nInstantiating the class for calculating hummock heights and hollow depths named level\\n'"
      ]
     },
     "execution_count": 93,
     "metadata": {},
     "output_type": "execute_result"
    }
   ],
   "source": [
    "\n",
    "\"\"\"\n",
    "Instantiating the class for calculating hummock heights and hollow depths named level\n",
    "\"\"\"\n",
    "#calc = Wtd_Calc(path_to_hum, path_to_hol, out_dir)\n",
    "#calc.level()"
   ]
  },
  {
   "cell_type": "code",
   "execution_count": 94,
   "id": "0a92591b-c2ef-4d43-a3dd-4fc070bb9030",
   "metadata": {},
   "outputs": [],
   "source": [
    "\"\"\"\n",
    "extracting the WTD_proxy for each of the ground truth points\n",
    "\"\"\"\n",
    "sto_points = extract_point_from_raster(path_to_raster = path_to_wtd_proxy,\n",
    "                                       path_to_shapefile=path_to_shape_sto,\n",
    "                                       colname_output=\"WTD_proxy\")\n",
    "sto_points['tube'] = list(range(1,5))\n",
    "\n",
    "halm_points = extract_point_from_raster(path_to_raster = path_to_wtd_proxy,\n",
    "                                       path_to_shapefile=path_to_shape_halm,\n",
    "                                       colname_output=\"WTD_proxy\")\n",
    "halm_points['tube'] = list(range(1,5))\n",
    "\n",
    "hals_points = extract_point_from_raster(path_to_raster = path_to_wtd_proxy,\n",
    "                                       path_to_shapefile=path_to_shape_hals,\n",
    "                                       colname_output=\"WTD_proxy\")\n",
    "hals_points['tube'] = list(range(1,5))\n",
    "\n",
    "deg_points = extract_point_from_raster(path_to_raster = path_to_wtd_proxy,\n",
    "                                       path_to_shapefile=path_to_shape_deg,\n",
    "                                       colname_output=\"WTD_proxy\")"
   ]
  },
  {
   "cell_type": "code",
   "execution_count": 95,
   "id": "c3a5ba8d-0bb5-477f-bb7d-7e8bbbc1e9f5",
   "metadata": {},
   "outputs": [],
   "source": [
    "#Manual \n",
    "path_to_excel = path_to_manual_WTD\n",
    "sto_wat = pd.read_excel(path_to_excel, sheet_name=\"Stortjärn\")\n",
    "sto_wat = sto_wat.rename(columns={'Tube number': 'tube'})\n",
    "\n",
    "halm_wat = pd.read_excel(path_to_excel, sheet_name=\"Hålmyran\")\n",
    "halm_wat = halm_wat.rename(columns={'Tube number': 'tube'})\n",
    "\n",
    "hals_wat = pd.read_excel(path_to_excel, sheet_name=\"Hälsingfors\")\n",
    "hals_wat = hals_wat.rename(columns={'Tube number': 'tube'})\n",
    "\n",
    "deg_wat = pd.read_excel(path_to_excel, sheet_name=\"Degero\")\n",
    "deg_wat = deg_wat.rename(columns={'Tube number': 'tube'})"
   ]
  },
  {
   "cell_type": "code",
   "execution_count": 96,
   "id": "465cb7ed-7d3b-40e6-a478-0131d123a9ca",
   "metadata": {},
   "outputs": [],
   "source": [
    "####Calcilating the MEAN Measured WTD by group\n",
    "sto_avg = sto_wat.groupby('tube').mean('WTD').reset_index()\n",
    "sto_avg['WTD'] = sto_avg['WTD'].transform(lambda x: -x)\n",
    "\n",
    "halm_avg = halm_wat.groupby('tube').mean('WTD').reset_index()\n",
    "halm_avg['WTD'] = halm_avg['WTD'].transform(lambda x: -x)\n",
    "\n",
    "hals_avg =  hals_wat.groupby('tube').mean('WTD').reset_index()\n",
    "hals_avg['WTD'] = hals_avg['WTD'].transform(lambda x: -x)\n",
    "\n",
    "deg_avg =  deg_wat.groupby('tube').mean('WTD').reset_index()\n",
    "deg_avg['WTD'] = deg_avg['WTD'].transform(lambda x: -x)"
   ]
  },
  {
   "cell_type": "code",
   "execution_count": 97,
   "id": "517a417b-721c-42c1-b0dc-bdbf4d46f408",
   "metadata": {},
   "outputs": [],
   "source": [
    "##Merging the 2 dataframes containing the measured average WTD with the WTD_proxy\n",
    "halm = pd.concat([halm_points, halm_avg], axis = 1, join='inner').T.drop_duplicates().T\n",
    "hals = pd.concat([hals_points, hals_avg], axis = 1, join='inner').T.drop_duplicates().T\n",
    "sto = pd.concat([sto_points, sto_avg], axis = 1, join='inner').T.drop_duplicates().T\n",
    "deg = deg_points.merge(deg_avg, left_on='tube', right_on='tube')"
   ]
  },
  {
   "cell_type": "code",
   "execution_count": 98,
   "id": "a67e1c6e-0b24-43b9-a8b4-11300fa3f99d",
   "metadata": {
    "scrolled": true
   },
   "outputs": [
    {
     "data": {
      "image/png": "[encoded data removed]",
      "text/plain": [
       "<Figure size 432x288 with 1 Axes>"
      ]
     },
     "metadata": {},
     "output_type": "display_data"
    },
    {
     "data": {
      "image/png": "[encoded data removed]",
      "text/plain": [
       "<Figure size 432x288 with 1 Axes>"
      ]
     },
     "metadata": {},
     "output_type": "display_data"
    },
    {
     "data": {
      "image/png": "[encoded data removed]",
      "text/plain": [
       "<Figure size 432x288 with 1 Axes>"
      ]
     },
     "metadata": {},
     "output_type": "display_data"
    },
    {
     "data": {
      "image/png": "[encoded data removed]",
      "text/plain": [
       "<Figure size 432x288 with 1 Axes>"
      ]
     },
     "metadata": {},
     "output_type": "display_data"
    }
   ],
   "source": [
    "##Linear regression\n",
    "perform_linear_regression(halm, 'WTD_proxy', 'WTD')\n",
    "perform_linear_regression(hals, 'WTD_proxy', 'WTD')\n",
    "perform_linear_regression(sto, 'WTD_proxy', 'WTD')\n",
    "perform_linear_regression(deg, 'WTD_proxy', 'WTD')"
   ]
  },
  {
   "cell_type": "code",
   "execution_count": 99,
   "id": "6dc31da9-a906-4095-b7cc-35c9bd8a6e94",
   "metadata": {},
   "outputs": [
    {
     "data": {
      "text/html": [
       "<div>\n",
       "<style scoped>\n",
       "    .dataframe tbody tr th:only-of-type {\n",
       "        vertical-align: middle;\n",
       "    }\n",
       "\n",
       "    .dataframe tbody tr th {\n",
       "        vertical-align: top;\n",
       "    }\n",
       "\n",
       "    .dataframe thead th {\n",
       "        text-align: right;\n",
       "    }\n",
       "</style>\n",
       "<table border=\"1\" class=\"dataframe\">\n",
       "  <thead>\n",
       "    <tr style=\"text-align: right;\">\n",
       "      <th></th>\n",
       "      <th>GPS Number</th>\n",
       "      <th>North</th>\n",
       "      <th>East</th>\n",
       "      <th>Elevation</th>\n",
       "      <th>Name</th>\n",
       "      <th>Project</th>\n",
       "      <th>Site</th>\n",
       "      <th>Person res</th>\n",
       "      <th>Notes</th>\n",
       "      <th>tube</th>\n",
       "      <th>geometry</th>\n",
       "      <th>WTD_proxy</th>\n",
       "      <th>WTD</th>\n",
       "    </tr>\n",
       "  </thead>\n",
       "  <tbody>\n",
       "    <tr>\n",
       "      <th>0</th>\n",
       "      <td>50</td>\n",
       "      <td>7125263.188</td>\n",
       "      <td>721315.774</td>\n",
       "      <td>265.751</td>\n",
       "      <td>Water Table Level Pit 2</td>\n",
       "      <td>ICOS</td>\n",
       "      <td>Deger� Storymyran</td>\n",
       "      <td>Per Marklund</td>\n",
       "      <td>None</td>\n",
       "      <td>2</td>\n",
       "      <td>POINT (721315.774 7125263.188)</td>\n",
       "      <td>14.898046</td>\n",
       "      <td>-5.853494</td>\n",
       "    </tr>\n",
       "    <tr>\n",
       "      <th>1</th>\n",
       "      <td>65</td>\n",
       "      <td>7125174.670</td>\n",
       "      <td>721245.660</td>\n",
       "      <td>265.913</td>\n",
       "      <td>Water Table Level Pit 4</td>\n",
       "      <td>ICOS</td>\n",
       "      <td>Deger� Storymyran</td>\n",
       "      <td>Per Marklund</td>\n",
       "      <td>None</td>\n",
       "      <td>4</td>\n",
       "      <td>POINT (721245.660 7125174.670)</td>\n",
       "      <td>19.099512</td>\n",
       "      <td>-6.242337</td>\n",
       "    </tr>\n",
       "    <tr>\n",
       "      <th>2</th>\n",
       "      <td>79</td>\n",
       "      <td>7125190.210</td>\n",
       "      <td>721320.633</td>\n",
       "      <td>265.929</td>\n",
       "      <td>Water Table Level Pit 1</td>\n",
       "      <td>ICOS</td>\n",
       "      <td>Deger� Storymyran</td>\n",
       "      <td>Per Marklund</td>\n",
       "      <td>None</td>\n",
       "      <td>1</td>\n",
       "      <td>POINT (721320.633 7125190.210)</td>\n",
       "      <td>18.001465</td>\n",
       "      <td>-7.972308</td>\n",
       "    </tr>\n",
       "    <tr>\n",
       "      <th>3</th>\n",
       "      <td>130</td>\n",
       "      <td>7125321.369</td>\n",
       "      <td>721252.454</td>\n",
       "      <td>265.606</td>\n",
       "      <td>Water Table Level Pit 3</td>\n",
       "      <td>ICOS</td>\n",
       "      <td>Deger� Storymyran</td>\n",
       "      <td>Per Marklund</td>\n",
       "      <td>None</td>\n",
       "      <td>3</td>\n",
       "      <td>POINT (721252.454 7125321.369)</td>\n",
       "      <td>28.900490</td>\n",
       "      <td>-3.375325</td>\n",
       "    </tr>\n",
       "  </tbody>\n",
       "</table>\n",
       "</div>"
      ],
      "text/plain": [
       "   GPS Number        North        East  Elevation                     Name  \\\n",
       "0          50  7125263.188  721315.774    265.751  Water Table Level Pit 2   \n",
       "1          65  7125174.670  721245.660    265.913  Water Table Level Pit 4   \n",
       "2          79  7125190.210  721320.633    265.929  Water Table Level Pit 1   \n",
       "3         130  7125321.369  721252.454    265.606  Water Table Level Pit 3   \n",
       "\n",
       "  Project               Site    Person res Notes  tube  \\\n",
       "0    ICOS  Deger� Storymyran  Per Marklund  None     2   \n",
       "1    ICOS  Deger� Storymyran  Per Marklund  None     4   \n",
       "2    ICOS  Deger� Storymyran  Per Marklund  None     1   \n",
       "3    ICOS  Deger� Storymyran  Per Marklund  None     3   \n",
       "\n",
       "                         geometry  WTD_proxy       WTD  \n",
       "0  POINT (721315.774 7125263.188)  14.898046 -5.853494  \n",
       "1  POINT (721245.660 7125174.670)  19.099512 -6.242337  \n",
       "2  POINT (721320.633 7125190.210)  18.001465 -7.972308  \n",
       "3  POINT (721252.454 7125321.369)  28.900490 -3.375325  "
      ]
     },
     "execution_count": 99,
     "metadata": {},
     "output_type": "execute_result"
    }
   ],
   "source": [
    "deg"
   ]
  },
  {
   "cell_type": "code",
   "execution_count": 100,
   "id": "3b88e762-a540-4338-940c-916403ec84c7",
   "metadata": {},
   "outputs": [],
   "source": [
    "csv_dir = r\"D:\\For_Nils\\Temp_tests\\HuHola_outputs\\WTD\\WTD_CSV_50\"\n",
    "halm.to_csv(os.path.join(csv_dir, \"halm.csv\"))\n",
    "hals.to_csv(os.path.join(csv_dir, \"hals.csv\"))\n",
    "sto.to_csv(os.path.join(csv_dir, \"sto.csv\"))\n",
    "deg.to_csv(os.path.join(csv_dir, \"deg.csv\"))"
   ]
  },
  {
   "cell_type": "code",
   "execution_count": null,
   "id": "1a2261d7-050d-47ea-80ff-ccc81a7ae983",
   "metadata": {},
   "outputs": [],
   "source": []
  }
 ],
 "metadata": {
  "kernelspec": {
   "display_name": "Python 3 (Spyder)",
   "language": "python3",
   "name": "python3"
  },
  "language_info": {
   "codemirror_mode": {
    "name": "ipython",
    "version": 3
   },
   "file_extension": ".py",
   "mimetype": "text/x-python",
   "name": "python",
   "nbconvert_exporter": "python",
   "pygments_lexer": "ipython3",
   "version": "3.9.15"
  }
 },
 "nbformat": 4,
 "nbformat_minor": 5
}
