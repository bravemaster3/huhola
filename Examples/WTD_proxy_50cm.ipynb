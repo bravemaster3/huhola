{
 "cells": [
  {
   "cell_type": "code",
   "execution_count": null,
   "id": "29a446b5-0010-4fe7-8a34-5680321a056a",
   "metadata": {},
   "outputs": [],
   "source": [
    "import os\n",
    "\n",
    "import sys\n",
    "sys.path.append('../huhola/')\n",
    "from microtopography import HuHoLa"
   ]
  },
  {
   "cell_type": "code",
   "execution_count": null,
   "id": "a2bcc1dc-9a14-48f6-ab64-222601a1001d",
   "metadata": {},
   "outputs": [],
   "source": [
    "# -*- coding: utf-8 -*-\n",
    "\"\"\"\n",
    "Created on Tue Sep 12 05:00:16 2023\n",
    "\n",
    "@author: kono0001\n",
    "\"\"\"\n",
    "\n",
    "import pandas as pd\n",
    "pd.set_option('display.max_columns', None)\n",
    "extract_point_from_raster = HuHoLa.extract_point_from_raster\n",
    "perform_linear_regression = HuHoLa.perform_linear_regression\n",
    "convert_raster_units_m_cm = HuHoLa.convert_raster_units_m_cm"
   ]
  },
  {
   "cell_type": "markdown",
   "id": "2e4190a1-2aaf-4e5d-b6f0-de122118b2ca",
   "metadata": {},
   "source": [
    "# First, let's calculate the hol_hum_hei_dep layer with fix_flats"
   ]
  },
  {
   "cell_type": "code",
   "execution_count": null,
   "id": "c3e7e622-ddca-49de-8567-9066714f16d1",
   "metadata": {},
   "outputs": [],
   "source": [
    "#Creating variables...\n",
    "working_dir = \"D:/For_Nils/Temp_tests/HuHola_outputs/WTD\"\n",
    "wd_0 = os.path.join(working_dir, \"Microtopo_50cm_000\")\n",
    "if not os.path.isdir(wd_0):\n",
    "    os.mkdir(wd_0)\n",
    "path_dem = r\"D:\\For_Nils\\data\\Degfert_DEM.tif\" #r\"D:\\For_Nils\\data\\Degfert_DEM.tif\"\n",
    "path_wbt = \"C:/Users/kono0001/WhiteboxTools_win_amd64/WBT\""
   ]
  },
  {
   "cell_type": "code",
   "execution_count": null,
   "id": "570c14cd-c092-4d4f-baca-8cdd8bd1bc6e",
   "metadata": {},
   "outputs": [],
   "source": [
    "# Creating an instance of HuHoLa\n",
    "m = HuHoLa(path_wbt = path_wbt,\n",
    "           wd = wd_0,\n",
    "           fix_flats = True,\n",
    "           flat_increment = 0.001,#0.0001\n",
    "           path_dem = path_dem)"
   ]
  },
  {
   "cell_type": "code",
   "execution_count": null,
   "id": "95ce8430-7f10-4d6b-8d90-f97226045718",
   "metadata": {},
   "outputs": [],
   "source": [
    "# print(m.p_dem)"
   ]
  },
  {
   "cell_type": "code",
   "execution_count": null,
   "id": "5c351e16-a074-4792-908f-6606b6e2c4c8",
   "metadata": {},
   "outputs": [],
   "source": [
    "# Running the microtopography model\n",
    "m.generate_microtopography()"
   ]
  },
  {
   "cell_type": "code",
   "execution_count": null,
   "id": "130592e1-48df-41ee-b185-c406a09661bf",
   "metadata": {},
   "outputs": [],
   "source": [
    "# This cell is temporary. TO be commented out after testing...\n",
    "# m.level(wd_0)\n",
    "# path_to_wtd_proxy_m = os.path.join(wd_0, \"level.tif\")\n",
    "# path_to_wtd_proxy = os.path.join(wd_0, \"level_cm.tif\")\n",
    "\n",
    "# convert_raster_units_m_cm(path_to_wtd_proxy_m, path_to_wtd_proxy)"
   ]
  },
  {
   "cell_type": "code",
   "execution_count": null,
   "id": "95562b8e-9c19-4343-8cb6-2ebd69b3215c",
   "metadata": {
    "scrolled": true
   },
   "outputs": [],
   "source": [
    "path_to_wtd_proxy_m = os.path.join(wd_0, \"hol_hum_depth_height.tif\")\n",
    "path_to_wtd_proxy = os.path.join(wd_0, \"hol_hum_depth_height_cm.tif\")\n",
    "\n",
    "convert_raster_units_m_cm(path_to_wtd_proxy_m, path_to_wtd_proxy)"
   ]
  },
  {
   "cell_type": "code",
   "execution_count": null,
   "id": "d7ba7831-a4b5-45ae-a8d1-0e682fbd2048",
   "metadata": {},
   "outputs": [],
   "source": [
    " path_to_wtd_proxy"
   ]
  },
  {
   "cell_type": "markdown",
   "id": "37cfafe8-78b7-4546-8312-c58117c852db",
   "metadata": {},
   "source": [
    "# Now, let's extract WTD_proxy and perform some linear regression"
   ]
  },
  {
   "cell_type": "code",
   "execution_count": null,
   "id": "9938af1c-3435-4e63-8eb3-10e542925987",
   "metadata": {},
   "outputs": [],
   "source": [
    "\"\"\"\n",
    "Variables:\n",
    "\"\"\"\n",
    "#out_dir = \"D:/For_Nils/Temp_tests/HuHola_outputs/WTD/\"\n",
    "path_to_shape_halm = r\"C:\\BRAVE\\slu\\MyPhD\\WTD_modelling_simple\\Data\\Shapefiles\\halmyran_wat.shp\"\n",
    "\n",
    "path_to_shape_hals = r\"C:\\BRAVE\\slu\\MyPhD\\WTD_modelling_simple\\Data\\Shapefiles\\halsingfors_wat.shp\"\n",
    "path_to_shape_sto = r\"C:\\BRAVE\\slu\\MyPhD\\WTD_modelling_simple\\Data\\Shapefiles\\stortjarn_wat.shp\"\n",
    "path_to_shape_deg = r\"C:\\BRAVE\\slu\\MyPhD\\WTD_modelling_simple\\Data\\Shapefiles\\degero_wat.shp\"\n",
    "\n",
    "path_to_manual_WTD = r\"C:\\BRAVE\\slu\\MyPhD\\WTD_modelling_simple\\Data\\Manual_WTD\\Manual water table measurements.xlsx\""
   ]
  },
  {
   "cell_type": "code",
   "execution_count": null,
   "id": "3a133f63-a548-4f31-b8b1-540df0531a44",
   "metadata": {},
   "outputs": [],
   "source": [
    "\n",
    "\"\"\"\n",
    "Instantiating the class for calculating hummock heights and hollow depths named level\n",
    "\"\"\"\n",
    "#calc = Wtd_Calc(path_to_hum, path_to_hol, out_dir)\n",
    "#calc.level()"
   ]
  },
  {
   "cell_type": "code",
   "execution_count": null,
   "id": "0a92591b-c2ef-4d43-a3dd-4fc070bb9030",
   "metadata": {},
   "outputs": [],
   "source": [
    "\"\"\"\n",
    "extracting the WTD_proxy for each of the ground truth points\n",
    "\"\"\"\n",
    "sto_points = extract_point_from_raster(path_to_raster = path_to_wtd_proxy,\n",
    "                                       path_to_shapefile=path_to_shape_sto,\n",
    "                                       colname_output=\"WTD_proxy\")\n",
    "sto_points['tube'] = list(range(1,5))\n",
    "\n",
    "halm_points = extract_point_from_raster(path_to_raster = path_to_wtd_proxy,\n",
    "                                       path_to_shapefile=path_to_shape_halm,\n",
    "                                       colname_output=\"WTD_proxy\")\n",
    "halm_points['tube'] = list(range(1,5))\n",
    "\n",
    "hals_points = extract_point_from_raster(path_to_raster = path_to_wtd_proxy,\n",
    "                                       path_to_shapefile=path_to_shape_hals,\n",
    "                                       colname_output=\"WTD_proxy\")\n",
    "hals_points['tube'] = list(range(1,5))\n",
    "\n",
    "deg_points = extract_point_from_raster(path_to_raster = path_to_wtd_proxy,\n",
    "                                       path_to_shapefile=path_to_shape_deg,\n",
    "                                       colname_output=\"WTD_proxy\")"
   ]
  },
  {
   "cell_type": "code",
   "execution_count": null,
   "id": "c3a5ba8d-0bb5-477f-bb7d-7e8bbbc1e9f5",
   "metadata": {},
   "outputs": [],
   "source": [
    "#Manual \n",
    "path_to_excel = path_to_manual_WTD\n",
    "sto_wat = pd.read_excel(path_to_excel, sheet_name=\"Stortjärn\")\n",
    "sto_wat = sto_wat.rename(columns={'Tube number': 'tube'})\n",
    "\n",
    "halm_wat = pd.read_excel(path_to_excel, sheet_name=\"Hålmyran\")\n",
    "halm_wat = halm_wat.rename(columns={'Tube number': 'tube'})\n",
    "\n",
    "hals_wat = pd.read_excel(path_to_excel, sheet_name=\"Hälsingfors\")\n",
    "hals_wat = hals_wat.rename(columns={'Tube number': 'tube'})\n",
    "\n",
    "deg_wat = pd.read_excel(path_to_excel, sheet_name=\"Degero\")\n",
    "deg_wat = deg_wat.rename(columns={'Tube number': 'tube'})"
   ]
  },
  {
   "cell_type": "code",
   "execution_count": null,
   "id": "465cb7ed-7d3b-40e6-a478-0131d123a9ca",
   "metadata": {},
   "outputs": [],
   "source": [
    "####Calcilating the MEAN Measured WTD by group\n",
    "sto_avg = sto_wat.groupby('tube').mean('WTD').reset_index()\n",
    "sto_avg['WTD'] = sto_avg['WTD'].transform(lambda x: -x)\n",
    "\n",
    "halm_avg = halm_wat.groupby('tube').mean('WTD').reset_index()\n",
    "halm_avg['WTD'] = halm_avg['WTD'].transform(lambda x: -x)\n",
    "\n",
    "hals_avg =  hals_wat.groupby('tube').mean('WTD').reset_index()\n",
    "hals_avg['WTD'] = hals_avg['WTD'].transform(lambda x: -x)\n",
    "\n",
    "deg_avg =  deg_wat.groupby('tube').mean('WTD').reset_index()\n",
    "deg_avg['WTD'] = deg_avg['WTD'].transform(lambda x: -x)"
   ]
  },
  {
   "cell_type": "code",
   "execution_count": null,
   "id": "517a417b-721c-42c1-b0dc-bdbf4d46f408",
   "metadata": {},
   "outputs": [],
   "source": [
    "##Merging the 2 dataframes containing the measured average WTD with the WTD_proxy\n",
    "halm = pd.concat([halm_points, halm_avg], axis = 1, join='inner').T.drop_duplicates().T\n",
    "hals = pd.concat([hals_points, hals_avg], axis = 1, join='inner').T.drop_duplicates().T\n",
    "sto = pd.concat([sto_points, sto_avg], axis = 1, join='inner').T.drop_duplicates().T\n",
    "deg = deg_points.merge(deg_avg, left_on='tube', right_on='tube')"
   ]
  },
  {
   "cell_type": "code",
   "execution_count": null,
   "id": "a67e1c6e-0b24-43b9-a8b4-11300fa3f99d",
   "metadata": {
    "scrolled": true
   },
   "outputs": [],
   "source": [
    "##Linear regression\n",
    "perform_linear_regression(halm, 'WTD_proxy', 'WTD')\n",
    "perform_linear_regression(hals, 'WTD_proxy', 'WTD')\n",
    "perform_linear_regression(sto, 'WTD_proxy', 'WTD')\n",
    "perform_linear_regression(deg, 'WTD_proxy', 'WTD')"
   ]
  },
  {
   "cell_type": "code",
   "execution_count": null,
   "id": "6dc31da9-a906-4095-b7cc-35c9bd8a6e94",
   "metadata": {},
   "outputs": [],
   "source": [
    "deg"
   ]
  },
  {
   "cell_type": "code",
   "execution_count": null,
   "id": "3b88e762-a540-4338-940c-916403ec84c7",
   "metadata": {},
   "outputs": [],
   "source": [
    "csv_dir = r\"D:\\For_Nils\\Temp_tests\\HuHola_outputs\\WTD\\WTD_CSV_50\"\n",
    "halm.to_csv(os.path.join(csv_dir, \"halm.csv\"))\n",
    "hals.to_csv(os.path.join(csv_dir, \"hals.csv\"))\n",
    "sto.to_csv(os.path.join(csv_dir, \"sto.csv\"))\n",
    "deg.to_csv(os.path.join(csv_dir, \"deg.csv\"))"
   ]
  },
  {
   "cell_type": "code",
   "execution_count": null,
   "id": "1a2261d7-050d-47ea-80ff-ccc81a7ae983",
   "metadata": {},
   "outputs": [],
   "source": []
  }
 ],
 "metadata": {
  "kernelspec": {
   "display_name": "Python 3 (ipykernel)",
   "language": "python",
   "name": "python3"
  },
  "language_info": {
   "codemirror_mode": {
    "name": "ipython",
    "version": 3
   },
   "file_extension": ".py",
   "mimetype": "text/x-python",
   "name": "python",
   "nbconvert_exporter": "python",
   "pygments_lexer": "ipython3",
   "version": "3.12.7"
  }
 },
 "nbformat": 4,
 "nbformat_minor": 5
}
